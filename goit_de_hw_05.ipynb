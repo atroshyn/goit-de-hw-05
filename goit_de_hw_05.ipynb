{
  "cells": [
    {
      "cell_type": "code",
      "execution_count": 7,
      "metadata": {
        "colab": {
          "base_uri": "https://localhost:8080/"
        },
        "id": "g_Ct6T7fL9V1",
        "outputId": "9ce4e301-37aa-48bc-9f50-937fb750a602"
      },
      "outputs": [
        {
          "output_type": "stream",
          "name": "stdout",
          "text": [
            "--2025-04-19 18:47:42--  https://archive.apache.org/dist/kafka/3.6.0/kafka_2.13-3.6.0.tgz\n",
            "Resolving archive.apache.org (archive.apache.org)... 65.108.204.189, 2a01:4f9:1a:a084::2\n",
            "Connecting to archive.apache.org (archive.apache.org)|65.108.204.189|:443... connected.\n",
            "HTTP request sent, awaiting response... 200 OK\n",
            "Length: 113257079 (108M) [application/x-gzip]\n",
            "Saving to: ‘kafka_2.13-3.6.0.tgz’\n",
            "\n",
            "kafka_2.13-3.6.0.tg 100%[===================>] 108.01M  26.5MB/s    in 4.9s    \n",
            "\n",
            "2025-04-19 18:47:48 (22.2 MB/s) - ‘kafka_2.13-3.6.0.tgz’ saved [113257079/113257079]\n",
            "\n"
          ]
        }
      ],
      "source": [
        "# Встановлення Java та Kafka\n",
        "!apt-get install openjdk-11-jdk-headless -qq > /dev/null\n",
        "!wget https://archive.apache.org/dist/kafka/3.6.0/kafka_2.13-3.6.0.tgz\n",
        "!tar -xzf kafka_2.13-3.6.0.tgz"
      ]
    },
    {
      "cell_type": "code",
      "execution_count": 8,
      "metadata": {
        "colab": {
          "base_uri": "https://localhost:8080/"
        },
        "id": "e8iu2E-jMLuK",
        "outputId": "62c606ce-6636-44af-80b0-9af229389330"
      },
      "outputs": [
        {
          "output_type": "execute_result",
          "data": {
            "text/plain": [
              "0"
            ]
          },
          "metadata": {},
          "execution_count": 8
        }
      ],
      "source": [
        "# Запуск Kafka-сервера\n",
        "import os\n",
        "# Запуск Zookeeper\n",
        "os.system(\"nohup kafka_2.13-3.6.0/bin/zookeeper-server-start.sh kafka_2.13-3.6.0/config/zookeeper.properties &\")\n",
        "# Запуск Kafka-сервер\n",
        "os.system(\"nohup kafka_2.13-3.6.0/bin/kafka-server-start.sh kafka_2.13-3.6.0/config/server.properties &\")"
      ]
    },
    {
      "cell_type": "code",
      "execution_count": 9,
      "metadata": {
        "colab": {
          "base_uri": "https://localhost:8080/"
        },
        "id": "e0r0-O71MWo8",
        "outputId": "a593af76-53d2-4b2f-9cac-55f42337a259"
      },
      "outputs": [
        {
          "output_type": "stream",
          "name": "stdout",
          "text": [
            "WARNING: Due to limitations in metric names, topics with a period ('.') or underscore ('_') could collide. To avoid issues it is best to use either, but not both.\n",
            "[2025-04-19 18:47:57,932] WARN [AdminClient clientId=adminclient-1] Connection to node -1 (localhost/127.0.0.1:9092) could not be established. Broker may not be available. (org.apache.kafka.clients.NetworkClient)\n",
            "[2025-04-19 18:47:57,992] WARN [AdminClient clientId=adminclient-1] Connection to node -1 (localhost/127.0.0.1:9092) could not be established. Broker may not be available. (org.apache.kafka.clients.NetworkClient)\n",
            "[2025-04-19 18:47:58,101] WARN [AdminClient clientId=adminclient-1] Connection to node -1 (localhost/127.0.0.1:9092) could not be established. Broker may not be available. (org.apache.kafka.clients.NetworkClient)\n",
            "[2025-04-19 18:47:58,405] WARN [AdminClient clientId=adminclient-1] Connection to node -1 (localhost/127.0.0.1:9092) could not be established. Broker may not be available. (org.apache.kafka.clients.NetworkClient)\n",
            "[2025-04-19 18:47:58,808] WARN [AdminClient clientId=adminclient-1] Connection to node -1 (localhost/127.0.0.1:9092) could not be established. Broker may not be available. (org.apache.kafka.clients.NetworkClient)\n",
            "Created topic atr_building_sensors.\n",
            "WARNING: Due to limitations in metric names, topics with a period ('.') or underscore ('_') could collide. To avoid issues it is best to use either, but not both.\n",
            "Created topic atr_temperature_alerts.\n",
            "WARNING: Due to limitations in metric names, topics with a period ('.') or underscore ('_') could collide. To avoid issues it is best to use either, but not both.\n",
            "Created topic atr_humidity_alerts.\n"
          ]
        }
      ],
      "source": [
        "# Створення топіків \"atr\"\n",
        "!kafka_2.13-3.6.0/bin/kafka-topics.sh --create --topic atr_building_sensors --bootstrap-server localhost:9092\n",
        "!kafka_2.13-3.6.0/bin/kafka-topics.sh --create --topic atr_temperature_alerts --bootstrap-server localhost:9092\n",
        "!kafka_2.13-3.6.0/bin/kafka-topics.sh --create --topic atr_humidity_alerts --bootstrap-server localhost:9092"
      ]
    },
    {
      "cell_type": "code",
      "execution_count": 10,
      "metadata": {
        "colab": {
          "base_uri": "https://localhost:8080/"
        },
        "id": "1mikilSEMkKa",
        "outputId": "970e3a25-34ff-4087-9650-734fe4950c79"
      },
      "outputs": [
        {
          "output_type": "stream",
          "name": "stdout",
          "text": [
            "Collecting kafka-python\n",
            "  Downloading kafka_python-2.1.5-py2.py3-none-any.whl.metadata (9.2 kB)\n",
            "Downloading kafka_python-2.1.5-py2.py3-none-any.whl (285 kB)\n",
            "\u001b[2K   \u001b[90m━━━━━━━━━━━━━━━━━━━━━━━━━━━━━━━━━━━━━━━━\u001b[0m \u001b[32m285.4/285.4 kB\u001b[0m \u001b[31m4.6 MB/s\u001b[0m eta \u001b[36m0:00:00\u001b[0m\n",
            "\u001b[?25hInstalling collected packages: kafka-python\n",
            "Successfully installed kafka-python-2.1.5\n"
          ]
        }
      ],
      "source": [
        "# Встановлення бібліотеки Kafka Python\n",
        "!pip install kafka-python"
      ]
    },
    {
      "cell_type": "code",
      "execution_count": 11,
      "metadata": {
        "colab": {
          "base_uri": "https://localhost:8080/"
        },
        "id": "mTvDh_CCMoRk",
        "outputId": "3b2145b6-6680-45ff-bffc-d679cfb293b6"
      },
      "outputs": [
        {
          "output_type": "stream",
          "name": "stdout",
          "text": [
            "['atr_temperature_alerts', 'atr_building_sensors', 'atr_humidity_alerts']\n"
          ]
        }
      ],
      "source": [
        "# Список створених топіків\n",
        "from kafka.admin import KafkaAdminClient\n",
        "\n",
        "admin_client = KafkaAdminClient(bootstrap_servers=['localhost:9092'])\n",
        "print([topic for topic in admin_client.list_topics() if \"atr\" in topic])"
      ]
    },
    {
      "cell_type": "code",
      "execution_count": 12,
      "metadata": {
        "colab": {
          "base_uri": "https://localhost:8080/"
        },
        "id": "uyjXyx58MxC4",
        "outputId": "87893d7f-1312-4840-877c-6346a89b7e3c"
      },
      "outputs": [
        {
          "output_type": "stream",
          "name": "stdout",
          "text": [
            "{'sensor_id': 1432, 'timestamp': '2025-04-19 18:48:20', 'temperature': 37, 'humidity': 18}\n",
            "{'sensor_id': 1432, 'timestamp': '2025-04-19 18:48:22', 'temperature': 42, 'humidity': 37}\n",
            "{'sensor_id': 1432, 'timestamp': '2025-04-19 18:48:24', 'temperature': 35, 'humidity': 45}\n",
            "{'sensor_id': 1432, 'timestamp': '2025-04-19 18:48:26', 'temperature': 30, 'humidity': 71}\n",
            "{'sensor_id': 1432, 'timestamp': '2025-04-19 18:48:28', 'temperature': 38, 'humidity': 21}\n",
            "{'sensor_id': 1432, 'timestamp': '2025-04-19 18:48:30', 'temperature': 29, 'humidity': 27}\n",
            "{'sensor_id': 1432, 'timestamp': '2025-04-19 18:48:32', 'temperature': 42, 'humidity': 50}\n",
            "{'sensor_id': 1432, 'timestamp': '2025-04-19 18:48:34', 'temperature': 35, 'humidity': 47}\n",
            "{'sensor_id': 1432, 'timestamp': '2025-04-19 18:48:36', 'temperature': 44, 'humidity': 24}\n",
            "{'sensor_id': 1432, 'timestamp': '2025-04-19 18:48:38', 'temperature': 39, 'humidity': 15}\n"
          ]
        }
      ],
      "source": [
        "# Скрипт для відправки даних до топіків, датчик 1\n",
        "from kafka import KafkaProducer\n",
        "import json, random, time\n",
        "from datetime import datetime\n",
        "\n",
        "producer = KafkaProducer(bootstrap_servers='localhost:9092',\n",
        "                         value_serializer=lambda v: json.dumps(v).encode('utf-8'))\n",
        "\n",
        "sensor_id = random.randint(1000, 9999)  # ID датчика постійний протягом одного запуску\n",
        "\n",
        "for _ in range(10):\n",
        "    data = {\n",
        "        \"sensor_id\": sensor_id,\n",
        "        \"timestamp\": datetime.now().strftime(\"%Y-%m-%d %H:%M:%S\"),\n",
        "        \"temperature\": random.randint(25, 45),\n",
        "        \"humidity\": random.randint(15, 85)\n",
        "    }\n",
        "    print(data)\n",
        "    producer.send(\"atr_building_sensors\", data)\n",
        "    time.sleep(2)"
      ]
    },
    {
      "cell_type": "code",
      "execution_count": 13,
      "metadata": {
        "colab": {
          "base_uri": "https://localhost:8080/"
        },
        "id": "wav9i4pJM_KX",
        "outputId": "16780322-d514-4249-8756-7dcad521b8cc"
      },
      "outputs": [
        {
          "output_type": "stream",
          "name": "stdout",
          "text": [
            "{'sensor_id': 2368, 'timestamp': '2025-04-19 18:48:44', 'temperature': 25, 'humidity': 36}\n",
            "{'sensor_id': 2368, 'timestamp': '2025-04-19 18:48:46', 'temperature': 43, 'humidity': 63}\n",
            "{'sensor_id': 2368, 'timestamp': '2025-04-19 18:48:48', 'temperature': 38, 'humidity': 34}\n",
            "{'sensor_id': 2368, 'timestamp': '2025-04-19 18:48:50', 'temperature': 33, 'humidity': 52}\n",
            "{'sensor_id': 2368, 'timestamp': '2025-04-19 18:48:52', 'temperature': 31, 'humidity': 24}\n",
            "{'sensor_id': 2368, 'timestamp': '2025-04-19 18:48:54', 'temperature': 33, 'humidity': 26}\n",
            "{'sensor_id': 2368, 'timestamp': '2025-04-19 18:48:56', 'temperature': 27, 'humidity': 63}\n",
            "{'sensor_id': 2368, 'timestamp': '2025-04-19 18:48:58', 'temperature': 35, 'humidity': 23}\n",
            "{'sensor_id': 2368, 'timestamp': '2025-04-19 18:49:00', 'temperature': 44, 'humidity': 27}\n",
            "{'sensor_id': 2368, 'timestamp': '2025-04-19 18:49:02', 'temperature': 34, 'humidity': 61}\n"
          ]
        }
      ],
      "source": [
        "# Скрипт для відправки даних до топіків, датчик 2\n",
        "from kafka import KafkaProducer\n",
        "import json, random, time\n",
        "from datetime import datetime\n",
        "\n",
        "producer = KafkaProducer(bootstrap_servers='localhost:9092',\n",
        "                         value_serializer=lambda v: json.dumps(v).encode('utf-8'))\n",
        "\n",
        "sensor_id = random.randint(1000, 9999)  # ID датчика постійний протягом одного запуску\n",
        "\n",
        "for _ in range(10):\n",
        "    data = {\n",
        "        \"sensor_id\": sensor_id,\n",
        "        \"timestamp\": datetime.now().strftime(\"%Y-%m-%d %H:%M:%S\"),\n",
        "        \"temperature\": random.randint(25, 45),\n",
        "        \"humidity\": random.randint(15, 85)\n",
        "    }\n",
        "    print(data)\n",
        "    producer.send(\"atr_building_sensors\", data)\n",
        "    time.sleep(2)"
      ]
    },
    {
      "cell_type": "code",
      "execution_count": 14,
      "metadata": {
        "colab": {
          "base_uri": "https://localhost:8080/",
          "height": 842
        },
        "id": "IREd0XE0NNBQ",
        "outputId": "1d921d49-4a93-4b79-bda3-c36e06f0e367"
      },
      "outputs": [
        {
          "output_type": "stream",
          "name": "stderr",
          "text": [
            "WARNING:kafka.coordinator.consumer:group_id is None: disabling auto-commit.\n"
          ]
        },
        {
          "output_type": "stream",
          "name": "stdout",
          "text": [
            "Отримано дані: {'sensor_id': 1432, 'timestamp': '2025-04-19 18:48:20', 'temperature': 37, 'humidity': 18}\n",
            "Відправлено алерт вологості: {'sensor_id': 1432, 'timestamp': '2025-04-19 18:48:20', 'humidity': 18, 'message': '💧 Критична вологість: 18%!'}\n",
            "Отримано дані: {'sensor_id': 1432, 'timestamp': '2025-04-19 18:48:22', 'temperature': 42, 'humidity': 37}\n",
            "Відправлено температурний алерт: {'sensor_id': 1432, 'timestamp': '2025-04-19 18:48:22', 'temperature': 42, 'message': '🔥 Висока температура: 42°C!'}\n",
            "Отримано дані: {'sensor_id': 1432, 'timestamp': '2025-04-19 18:48:24', 'temperature': 35, 'humidity': 45}\n",
            "Отримано дані: {'sensor_id': 1432, 'timestamp': '2025-04-19 18:48:26', 'temperature': 30, 'humidity': 71}\n",
            "Отримано дані: {'sensor_id': 1432, 'timestamp': '2025-04-19 18:48:28', 'temperature': 38, 'humidity': 21}\n",
            "Отримано дані: {'sensor_id': 1432, 'timestamp': '2025-04-19 18:48:30', 'temperature': 29, 'humidity': 27}\n",
            "Отримано дані: {'sensor_id': 1432, 'timestamp': '2025-04-19 18:48:32', 'temperature': 42, 'humidity': 50}\n",
            "Відправлено температурний алерт: {'sensor_id': 1432, 'timestamp': '2025-04-19 18:48:32', 'temperature': 42, 'message': '🔥 Висока температура: 42°C!'}\n",
            "Отримано дані: {'sensor_id': 1432, 'timestamp': '2025-04-19 18:48:34', 'temperature': 35, 'humidity': 47}\n",
            "Отримано дані: {'sensor_id': 1432, 'timestamp': '2025-04-19 18:48:36', 'temperature': 44, 'humidity': 24}\n",
            "Відправлено температурний алерт: {'sensor_id': 1432, 'timestamp': '2025-04-19 18:48:36', 'temperature': 44, 'message': '🔥 Висока температура: 44°C!'}\n",
            "Отримано дані: {'sensor_id': 1432, 'timestamp': '2025-04-19 18:48:38', 'temperature': 39, 'humidity': 15}\n",
            "Відправлено алерт вологості: {'sensor_id': 1432, 'timestamp': '2025-04-19 18:48:38', 'humidity': 15, 'message': '💧 Критична вологість: 15%!'}\n",
            "Отримано дані: {'sensor_id': 2368, 'timestamp': '2025-04-19 18:48:44', 'temperature': 25, 'humidity': 36}\n",
            "Отримано дані: {'sensor_id': 2368, 'timestamp': '2025-04-19 18:48:46', 'temperature': 43, 'humidity': 63}\n",
            "Відправлено температурний алерт: {'sensor_id': 2368, 'timestamp': '2025-04-19 18:48:46', 'temperature': 43, 'message': '🔥 Висока температура: 43°C!'}\n",
            "Отримано дані: {'sensor_id': 2368, 'timestamp': '2025-04-19 18:48:48', 'temperature': 38, 'humidity': 34}\n",
            "Отримано дані: {'sensor_id': 2368, 'timestamp': '2025-04-19 18:48:50', 'temperature': 33, 'humidity': 52}\n",
            "Отримано дані: {'sensor_id': 2368, 'timestamp': '2025-04-19 18:48:52', 'temperature': 31, 'humidity': 24}\n",
            "Отримано дані: {'sensor_id': 2368, 'timestamp': '2025-04-19 18:48:54', 'temperature': 33, 'humidity': 26}\n",
            "Отримано дані: {'sensor_id': 2368, 'timestamp': '2025-04-19 18:48:56', 'temperature': 27, 'humidity': 63}\n",
            "Отримано дані: {'sensor_id': 2368, 'timestamp': '2025-04-19 18:48:58', 'temperature': 35, 'humidity': 23}\n",
            "Отримано дані: {'sensor_id': 2368, 'timestamp': '2025-04-19 18:49:00', 'temperature': 44, 'humidity': 27}\n",
            "Відправлено температурний алерт: {'sensor_id': 2368, 'timestamp': '2025-04-19 18:49:00', 'temperature': 44, 'message': '🔥 Висока температура: 44°C!'}\n",
            "Отримано дані: {'sensor_id': 2368, 'timestamp': '2025-04-19 18:49:02', 'temperature': 34, 'humidity': 61}\n"
          ]
        },
        {
          "output_type": "error",
          "ename": "KeyboardInterrupt",
          "evalue": "",
          "traceback": [
            "\u001b[0;31m---------------------------------------------------------------------------\u001b[0m",
            "\u001b[0;31mKeyboardInterrupt\u001b[0m                         Traceback (most recent call last)",
            "\u001b[0;32m<ipython-input-14-2df3c327af9b>\u001b[0m in \u001b[0;36m<cell line: 0>\u001b[0;34m()\u001b[0m\n\u001b[1;32m     13\u001b[0m                          value_serializer=lambda v: json.dumps(v).encode('utf-8'))\n\u001b[1;32m     14\u001b[0m \u001b[0;34m\u001b[0m\u001b[0m\n\u001b[0;32m---> 15\u001b[0;31m \u001b[0;32mfor\u001b[0m \u001b[0mmessage\u001b[0m \u001b[0;32min\u001b[0m \u001b[0mconsumer\u001b[0m\u001b[0;34m:\u001b[0m\u001b[0;34m\u001b[0m\u001b[0;34m\u001b[0m\u001b[0m\n\u001b[0m\u001b[1;32m     16\u001b[0m     \u001b[0mdata\u001b[0m \u001b[0;34m=\u001b[0m \u001b[0mmessage\u001b[0m\u001b[0;34m.\u001b[0m\u001b[0mvalue\u001b[0m\u001b[0;34m\u001b[0m\u001b[0;34m\u001b[0m\u001b[0m\n\u001b[1;32m     17\u001b[0m     \u001b[0mprint\u001b[0m\u001b[0;34m(\u001b[0m\u001b[0;34mf\"Отримано дані: {data}\"\u001b[0m\u001b[0;34m)\u001b[0m\u001b[0;34m\u001b[0m\u001b[0;34m\u001b[0m\u001b[0m\n",
            "\u001b[0;32m/usr/local/lib/python3.11/dist-packages/kafka/consumer/group.py\u001b[0m in \u001b[0;36m__next__\u001b[0;34m(self)\u001b[0m\n\u001b[1;32m   1186\u001b[0m                 \u001b[0mself\u001b[0m\u001b[0;34m.\u001b[0m\u001b[0m_iterator\u001b[0m \u001b[0;34m=\u001b[0m \u001b[0mself\u001b[0m\u001b[0;34m.\u001b[0m\u001b[0m_message_generator_v2\u001b[0m\u001b[0;34m(\u001b[0m\u001b[0;34m)\u001b[0m\u001b[0;34m\u001b[0m\u001b[0;34m\u001b[0m\u001b[0m\n\u001b[1;32m   1187\u001b[0m             \u001b[0;32mtry\u001b[0m\u001b[0;34m:\u001b[0m\u001b[0;34m\u001b[0m\u001b[0;34m\u001b[0m\u001b[0m\n\u001b[0;32m-> 1188\u001b[0;31m                 \u001b[0;32mreturn\u001b[0m \u001b[0mnext\u001b[0m\u001b[0;34m(\u001b[0m\u001b[0mself\u001b[0m\u001b[0;34m.\u001b[0m\u001b[0m_iterator\u001b[0m\u001b[0;34m)\u001b[0m\u001b[0;34m\u001b[0m\u001b[0;34m\u001b[0m\u001b[0m\n\u001b[0m\u001b[1;32m   1189\u001b[0m             \u001b[0;32mexcept\u001b[0m \u001b[0mStopIteration\u001b[0m\u001b[0;34m:\u001b[0m\u001b[0;34m\u001b[0m\u001b[0;34m\u001b[0m\u001b[0m\n\u001b[1;32m   1190\u001b[0m                 \u001b[0mself\u001b[0m\u001b[0;34m.\u001b[0m\u001b[0m_iterator\u001b[0m \u001b[0;34m=\u001b[0m \u001b[0;32mNone\u001b[0m\u001b[0;34m\u001b[0m\u001b[0;34m\u001b[0m\u001b[0m\n",
            "\u001b[0;32m/usr/local/lib/python3.11/dist-packages/kafka/consumer/group.py\u001b[0m in \u001b[0;36m_message_generator_v2\u001b[0;34m(self)\u001b[0m\n\u001b[1;32m   1158\u001b[0m     \u001b[0;32mdef\u001b[0m \u001b[0m_message_generator_v2\u001b[0m\u001b[0;34m(\u001b[0m\u001b[0mself\u001b[0m\u001b[0;34m)\u001b[0m\u001b[0;34m:\u001b[0m\u001b[0;34m\u001b[0m\u001b[0;34m\u001b[0m\u001b[0m\n\u001b[1;32m   1159\u001b[0m         \u001b[0mtimeout_ms\u001b[0m \u001b[0;34m=\u001b[0m \u001b[0;36m1000\u001b[0m \u001b[0;34m*\u001b[0m \u001b[0mmax\u001b[0m\u001b[0;34m(\u001b[0m\u001b[0;36m0\u001b[0m\u001b[0;34m,\u001b[0m \u001b[0mself\u001b[0m\u001b[0;34m.\u001b[0m\u001b[0m_consumer_timeout\u001b[0m \u001b[0;34m-\u001b[0m \u001b[0mtime\u001b[0m\u001b[0;34m.\u001b[0m\u001b[0mtime\u001b[0m\u001b[0;34m(\u001b[0m\u001b[0;34m)\u001b[0m\u001b[0;34m)\u001b[0m\u001b[0;34m\u001b[0m\u001b[0;34m\u001b[0m\u001b[0m\n\u001b[0;32m-> 1160\u001b[0;31m         \u001b[0mrecord_map\u001b[0m \u001b[0;34m=\u001b[0m \u001b[0mself\u001b[0m\u001b[0;34m.\u001b[0m\u001b[0mpoll\u001b[0m\u001b[0;34m(\u001b[0m\u001b[0mtimeout_ms\u001b[0m\u001b[0;34m=\u001b[0m\u001b[0mtimeout_ms\u001b[0m\u001b[0;34m,\u001b[0m \u001b[0mupdate_offsets\u001b[0m\u001b[0;34m=\u001b[0m\u001b[0;32mFalse\u001b[0m\u001b[0;34m)\u001b[0m\u001b[0;34m\u001b[0m\u001b[0;34m\u001b[0m\u001b[0m\n\u001b[0m\u001b[1;32m   1161\u001b[0m         \u001b[0;32mfor\u001b[0m \u001b[0mtp\u001b[0m\u001b[0;34m,\u001b[0m \u001b[0mrecords\u001b[0m \u001b[0;32min\u001b[0m \u001b[0msix\u001b[0m\u001b[0;34m.\u001b[0m\u001b[0miteritems\u001b[0m\u001b[0;34m(\u001b[0m\u001b[0mrecord_map\u001b[0m\u001b[0;34m)\u001b[0m\u001b[0;34m:\u001b[0m\u001b[0;34m\u001b[0m\u001b[0;34m\u001b[0m\u001b[0m\n\u001b[1;32m   1162\u001b[0m             \u001b[0;31m# Generators are stateful, and it is possible that the tp / records\u001b[0m\u001b[0;34m\u001b[0m\u001b[0;34m\u001b[0m\u001b[0m\n",
            "\u001b[0;32m/usr/local/lib/python3.11/dist-packages/kafka/consumer/group.py\u001b[0m in \u001b[0;36mpoll\u001b[0;34m(self, timeout_ms, max_records, update_offsets)\u001b[0m\n\u001b[1;32m    691\u001b[0m         \u001b[0minner_timeout_ms\u001b[0m \u001b[0;34m=\u001b[0m \u001b[0mtimeout_ms_fn\u001b[0m\u001b[0;34m(\u001b[0m\u001b[0mtimeout_ms\u001b[0m\u001b[0;34m,\u001b[0m \u001b[0;32mNone\u001b[0m\u001b[0;34m)\u001b[0m\u001b[0;34m\u001b[0m\u001b[0;34m\u001b[0m\u001b[0m\n\u001b[1;32m    692\u001b[0m         \u001b[0;32mwhile\u001b[0m \u001b[0;32mnot\u001b[0m \u001b[0mself\u001b[0m\u001b[0;34m.\u001b[0m\u001b[0m_closed\u001b[0m\u001b[0;34m:\u001b[0m\u001b[0;34m\u001b[0m\u001b[0;34m\u001b[0m\u001b[0m\n\u001b[0;32m--> 693\u001b[0;31m             \u001b[0mrecords\u001b[0m \u001b[0;34m=\u001b[0m \u001b[0mself\u001b[0m\u001b[0;34m.\u001b[0m\u001b[0m_poll_once\u001b[0m\u001b[0;34m(\u001b[0m\u001b[0minner_timeout_ms\u001b[0m\u001b[0;34m(\u001b[0m\u001b[0;34m)\u001b[0m\u001b[0;34m,\u001b[0m \u001b[0mmax_records\u001b[0m\u001b[0;34m,\u001b[0m \u001b[0mupdate_offsets\u001b[0m\u001b[0;34m=\u001b[0m\u001b[0mupdate_offsets\u001b[0m\u001b[0;34m)\u001b[0m\u001b[0;34m\u001b[0m\u001b[0;34m\u001b[0m\u001b[0m\n\u001b[0m\u001b[1;32m    694\u001b[0m             \u001b[0;32mif\u001b[0m \u001b[0mrecords\u001b[0m\u001b[0;34m:\u001b[0m\u001b[0;34m\u001b[0m\u001b[0;34m\u001b[0m\u001b[0m\n\u001b[1;32m    695\u001b[0m                 \u001b[0;32mreturn\u001b[0m \u001b[0mrecords\u001b[0m\u001b[0;34m\u001b[0m\u001b[0;34m\u001b[0m\u001b[0m\n",
            "\u001b[0;32m/usr/local/lib/python3.11/dist-packages/kafka/consumer/group.py\u001b[0m in \u001b[0;36m_poll_once\u001b[0;34m(self, timeout_ms, max_records, update_offsets)\u001b[0m\n\u001b[1;32m    734\u001b[0m             \u001b[0;32mreturn\u001b[0m \u001b[0mrecords\u001b[0m\u001b[0;34m\u001b[0m\u001b[0;34m\u001b[0m\u001b[0m\n\u001b[1;32m    735\u001b[0m \u001b[0;34m\u001b[0m\u001b[0m\n\u001b[0;32m--> 736\u001b[0;31m         \u001b[0mself\u001b[0m\u001b[0;34m.\u001b[0m\u001b[0m_client\u001b[0m\u001b[0;34m.\u001b[0m\u001b[0mpoll\u001b[0m\u001b[0;34m(\u001b[0m\u001b[0mtimeout_ms\u001b[0m\u001b[0;34m=\u001b[0m\u001b[0minner_timeout_ms\u001b[0m\u001b[0;34m(\u001b[0m\u001b[0mself\u001b[0m\u001b[0;34m.\u001b[0m\u001b[0m_coordinator\u001b[0m\u001b[0;34m.\u001b[0m\u001b[0mtime_to_next_poll\u001b[0m\u001b[0;34m(\u001b[0m\u001b[0;34m)\u001b[0m \u001b[0;34m*\u001b[0m \u001b[0;36m1000\u001b[0m\u001b[0;34m)\u001b[0m\u001b[0;34m)\u001b[0m\u001b[0;34m\u001b[0m\u001b[0;34m\u001b[0m\u001b[0m\n\u001b[0m\u001b[1;32m    737\u001b[0m         \u001b[0;31m# after the long poll, we should check whether the group needs to rebalance\u001b[0m\u001b[0;34m\u001b[0m\u001b[0;34m\u001b[0m\u001b[0m\n\u001b[1;32m    738\u001b[0m         \u001b[0;31m# prior to returning data so that the group can stabilize faster\u001b[0m\u001b[0;34m\u001b[0m\u001b[0;34m\u001b[0m\u001b[0m\n",
            "\u001b[0;32m/usr/local/lib/python3.11/dist-packages/kafka/client_async.py\u001b[0m in \u001b[0;36mpoll\u001b[0;34m(self, timeout_ms, future)\u001b[0m\n\u001b[1;32m    682\u001b[0m                     \u001b[0mtimeout\u001b[0m \u001b[0;34m=\u001b[0m \u001b[0mmax\u001b[0m\u001b[0;34m(\u001b[0m\u001b[0;36m0\u001b[0m\u001b[0;34m,\u001b[0m \u001b[0mtimeout\u001b[0m\u001b[0;34m)\u001b[0m  \u001b[0;31m# avoid negative timeouts\u001b[0m\u001b[0;34m\u001b[0m\u001b[0;34m\u001b[0m\u001b[0m\n\u001b[1;32m    683\u001b[0m \u001b[0;34m\u001b[0m\u001b[0m\n\u001b[0;32m--> 684\u001b[0;31m                 \u001b[0mself\u001b[0m\u001b[0;34m.\u001b[0m\u001b[0m_poll\u001b[0m\u001b[0;34m(\u001b[0m\u001b[0mtimeout\u001b[0m \u001b[0;34m/\u001b[0m \u001b[0;36m1000\u001b[0m\u001b[0;34m)\u001b[0m\u001b[0;34m\u001b[0m\u001b[0;34m\u001b[0m\u001b[0m\n\u001b[0m\u001b[1;32m    685\u001b[0m \u001b[0;34m\u001b[0m\u001b[0m\n\u001b[1;32m    686\u001b[0m             \u001b[0;31m# called without the lock to avoid deadlock potential\u001b[0m\u001b[0;34m\u001b[0m\u001b[0;34m\u001b[0m\u001b[0m\n",
            "\u001b[0;32m/usr/local/lib/python3.11/dist-packages/kafka/client_async.py\u001b[0m in \u001b[0;36m_poll\u001b[0;34m(self, timeout)\u001b[0m\n\u001b[1;32m    725\u001b[0m \u001b[0;34m\u001b[0m\u001b[0m\n\u001b[1;32m    726\u001b[0m         \u001b[0mstart_select\u001b[0m \u001b[0;34m=\u001b[0m \u001b[0mtime\u001b[0m\u001b[0;34m.\u001b[0m\u001b[0mtime\u001b[0m\u001b[0;34m(\u001b[0m\u001b[0;34m)\u001b[0m\u001b[0;34m\u001b[0m\u001b[0;34m\u001b[0m\u001b[0m\n\u001b[0;32m--> 727\u001b[0;31m         \u001b[0mready\u001b[0m \u001b[0;34m=\u001b[0m \u001b[0mself\u001b[0m\u001b[0;34m.\u001b[0m\u001b[0m_selector\u001b[0m\u001b[0;34m.\u001b[0m\u001b[0mselect\u001b[0m\u001b[0;34m(\u001b[0m\u001b[0mtimeout\u001b[0m\u001b[0;34m)\u001b[0m\u001b[0;34m\u001b[0m\u001b[0;34m\u001b[0m\u001b[0m\n\u001b[0m\u001b[1;32m    728\u001b[0m         \u001b[0mend_select\u001b[0m \u001b[0;34m=\u001b[0m \u001b[0mtime\u001b[0m\u001b[0;34m.\u001b[0m\u001b[0mtime\u001b[0m\u001b[0;34m(\u001b[0m\u001b[0;34m)\u001b[0m\u001b[0;34m\u001b[0m\u001b[0;34m\u001b[0m\u001b[0m\n\u001b[1;32m    729\u001b[0m         \u001b[0;32mif\u001b[0m \u001b[0mself\u001b[0m\u001b[0;34m.\u001b[0m\u001b[0m_sensors\u001b[0m\u001b[0;34m:\u001b[0m\u001b[0;34m\u001b[0m\u001b[0;34m\u001b[0m\u001b[0m\n",
            "\u001b[0;32m/usr/lib/python3.11/selectors.py\u001b[0m in \u001b[0;36mselect\u001b[0;34m(self, timeout)\u001b[0m\n\u001b[1;32m    466\u001b[0m             \u001b[0mready\u001b[0m \u001b[0;34m=\u001b[0m \u001b[0;34m[\u001b[0m\u001b[0;34m]\u001b[0m\u001b[0;34m\u001b[0m\u001b[0;34m\u001b[0m\u001b[0m\n\u001b[1;32m    467\u001b[0m             \u001b[0;32mtry\u001b[0m\u001b[0;34m:\u001b[0m\u001b[0;34m\u001b[0m\u001b[0;34m\u001b[0m\u001b[0m\n\u001b[0;32m--> 468\u001b[0;31m                 \u001b[0mfd_event_list\u001b[0m \u001b[0;34m=\u001b[0m \u001b[0mself\u001b[0m\u001b[0;34m.\u001b[0m\u001b[0m_selector\u001b[0m\u001b[0;34m.\u001b[0m\u001b[0mpoll\u001b[0m\u001b[0;34m(\u001b[0m\u001b[0mtimeout\u001b[0m\u001b[0;34m,\u001b[0m \u001b[0mmax_ev\u001b[0m\u001b[0;34m)\u001b[0m\u001b[0;34m\u001b[0m\u001b[0;34m\u001b[0m\u001b[0m\n\u001b[0m\u001b[1;32m    469\u001b[0m             \u001b[0;32mexcept\u001b[0m \u001b[0mInterruptedError\u001b[0m\u001b[0;34m:\u001b[0m\u001b[0;34m\u001b[0m\u001b[0;34m\u001b[0m\u001b[0m\n\u001b[1;32m    470\u001b[0m                 \u001b[0;32mreturn\u001b[0m \u001b[0mready\u001b[0m\u001b[0;34m\u001b[0m\u001b[0;34m\u001b[0m\u001b[0m\n",
            "\u001b[0;31mKeyboardInterrupt\u001b[0m: "
          ]
        }
      ],
      "source": [
        "# Скрипт для обробки даних (отримання та фільтрація сповіщень)\n",
        "from kafka import KafkaConsumer, KafkaProducer\n",
        "import json\n",
        "\n",
        "consumer = KafkaConsumer(\n",
        "    \"atr_building_sensors\",\n",
        "    bootstrap_servers='localhost:9092',\n",
        "    auto_offset_reset='earliest',\n",
        "    value_deserializer=lambda m: json.loads(m.decode('utf-8'))\n",
        ")\n",
        "\n",
        "producer = KafkaProducer(bootstrap_servers='localhost:9092',\n",
        "                         value_serializer=lambda v: json.dumps(v).encode('utf-8'))\n",
        "\n",
        "for message in consumer:\n",
        "    data = message.value\n",
        "    print(f\"Отримано дані: {data}\")\n",
        "\n",
        "    temp = data[\"temperature\"]\n",
        "    hum = data[\"humidity\"]\n",
        "\n",
        "    # Фільтрація\n",
        "    if temp > 40:\n",
        "        alert = {\n",
        "            \"sensor_id\": data[\"sensor_id\"],\n",
        "            \"timestamp\": data[\"timestamp\"],\n",
        "            \"temperature\": temp,\n",
        "            \"message\": f\"🔥 Висока температура: {temp}°C!\"\n",
        "        }\n",
        "        producer.send(\"atr_temperature_alerts\", alert)\n",
        "        print(\"Відправлено температурний алерт:\", alert)\n",
        "\n",
        "    if hum > 80 or hum < 20:\n",
        "        alert = {\n",
        "            \"sensor_id\": data[\"sensor_id\"],\n",
        "            \"timestamp\": data[\"timestamp\"],\n",
        "            \"humidity\": hum,\n",
        "            \"message\": f\"💧 Критична вологість: {hum}%!\"\n",
        "        }\n",
        "        producer.send(\"atr_humidity_alerts\", alert)\n",
        "        print(\"Відправлено алерт вологості:\", alert)\n",
        "\n"
      ]
    },
    {
      "cell_type": "code",
      "execution_count": null,
      "metadata": {
        "id": "mFLWmRMWWVcm",
        "colab": {
          "base_uri": "https://localhost:8080/"
        },
        "outputId": "716bb999-05ab-413a-c32a-be8363de2e94"
      },
      "outputs": [
        {
          "output_type": "stream",
          "name": "stderr",
          "text": [
            "WARNING:kafka.coordinator.consumer:group_id is None: disabling auto-commit.\n"
          ]
        },
        {
          "output_type": "stream",
          "name": "stdout",
          "text": [
            "🔔 ALERT from [atr_humidity_alerts]: {'sensor_id': 1432, 'timestamp': '2025-04-19 18:48:20', 'humidity': 18, 'message': '💧 Критична вологість: 18%!'}\n",
            "🔔 ALERT from [atr_humidity_alerts]: {'sensor_id': 1432, 'timestamp': '2025-04-19 18:48:38', 'humidity': 15, 'message': '💧 Критична вологість: 15%!'}\n",
            "🔔 ALERT from [atr_temperature_alerts]: {'sensor_id': 1432, 'timestamp': '2025-04-19 18:48:22', 'temperature': 42, 'message': '🔥 Висока температура: 42°C!'}\n",
            "🔔 ALERT from [atr_temperature_alerts]: {'sensor_id': 1432, 'timestamp': '2025-04-19 18:48:32', 'temperature': 42, 'message': '🔥 Висока температура: 42°C!'}\n",
            "🔔 ALERT from [atr_temperature_alerts]: {'sensor_id': 1432, 'timestamp': '2025-04-19 18:48:36', 'temperature': 44, 'message': '🔥 Висока температура: 44°C!'}\n",
            "🔔 ALERT from [atr_temperature_alerts]: {'sensor_id': 2368, 'timestamp': '2025-04-19 18:48:46', 'temperature': 43, 'message': '🔥 Висока температура: 43°C!'}\n",
            "🔔 ALERT from [atr_temperature_alerts]: {'sensor_id': 2368, 'timestamp': '2025-04-19 18:49:00', 'temperature': 44, 'message': '🔥 Висока температура: 44°C!'}\n"
          ]
        }
      ],
      "source": [
        "# Остаточний результат — отримання відфільтрованих даних\n",
        "from kafka import KafkaConsumer\n",
        "import json\n",
        "\n",
        "alerts_consumer = KafkaConsumer(\n",
        "    \"atr_temperature_alerts\",\n",
        "    \"atr_humidity_alerts\",\n",
        "    bootstrap_servers='localhost:9092',\n",
        "    auto_offset_reset='earliest',\n",
        "    value_deserializer=lambda m: json.loads(m.decode('utf-8'))\n",
        ")\n",
        "\n",
        "for alert_msg in alerts_consumer:\n",
        "    alert = alert_msg.value\n",
        "    topic = alert_msg.topic\n",
        "    print(f\"🔔 ALERT from [{topic}]: {alert}\")"
      ]
    }
  ],
  "metadata": {
    "colab": {
      "provenance": []
    },
    "kernelspec": {
      "display_name": "Python 3",
      "name": "python3"
    },
    "language_info": {
      "name": "python"
    }
  },
  "nbformat": 4,
  "nbformat_minor": 0
}